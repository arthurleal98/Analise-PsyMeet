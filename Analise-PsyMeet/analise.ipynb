{
 "cells": [
  {
   "cell_type": "markdown",
   "metadata": {},
   "source": [
    "Analise de Dados do Site PyMeet\n",
    "\n",
    "Este site aprensenta profissionais da área da psicologia que trabalham com o valor social, por volta de R$30,00 a consulta."
   ]
  },
  {
   "cell_type": "code",
   "execution_count": 1,
   "metadata": {},
   "outputs": [],
   "source": [
    "from data.mysqls import BancoDeDados\n",
    "import pandas as pd\n",
    "import matplotlib.pyplot as plt\n",
    "from utils.scraping import PsicologoScraper\n",
    "\n",
    "\n"
   ]
  },
  {
   "cell_type": "markdown",
   "metadata": {},
   "source": [
    "Primeiro realizaremos o scraping de dados com o Selenium"
   ]
  },
  {
   "cell_type": "code",
   "execution_count": 2,
   "metadata": {},
   "outputs": [
    {
     "ename": "TypeError",
     "evalue": "WebDriver.__init__() got an unexpected keyword argument 'executable_path'",
     "output_type": "error",
     "traceback": [
      "\u001b[0;31m---------------------------------------------------------------------------\u001b[0m",
      "\u001b[0;31mTypeError\u001b[0m                                 Traceback (most recent call last)",
      "Cell \u001b[0;32mIn[2], line 1\u001b[0m\n\u001b[0;32m----> 1\u001b[0m \u001b[43mPsicologoScraper\u001b[49m\u001b[43m(\u001b[49m\u001b[43m)\u001b[49m\u001b[38;5;241m.\u001b[39mscraping()\n",
      "File \u001b[0;32m~/Desktop/asdf/PsyMeet-Scraper/Analise-PsyMeet/utils/scraping.py:11\u001b[0m, in \u001b[0;36mPsicologoScraper.__init__\u001b[0;34m(self, executable_path, url, quantidade_de_buscas, localidade_por_ddd)\u001b[0m\n\u001b[1;32m      9\u001b[0m \u001b[38;5;28;01mdef\u001b[39;00m \u001b[38;5;21m__init__\u001b[39m(\u001b[38;5;28mself\u001b[39m, executable_path\u001b[38;5;241m=\u001b[39m\u001b[38;5;124m'\u001b[39m\u001b[38;5;124m../drivers/chromedriver\u001b[39m\u001b[38;5;124m'\u001b[39m, url\u001b[38;5;241m=\u001b[39m\u001b[38;5;124m'\u001b[39m\u001b[38;5;124mhttps://www.psymeetsocial.com/busca\u001b[39m\u001b[38;5;124m'\u001b[39m, quantidade_de_buscas\u001b[38;5;241m=\u001b[39m\u001b[38;5;241m500\u001b[39m, localidade_por_ddd\u001b[38;5;241m=\u001b[39m\u001b[38;5;124m'\u001b[39m\u001b[38;5;124m'\u001b[39m):\n\u001b[0;32m---> 11\u001b[0m     \u001b[38;5;28mself\u001b[39m\u001b[38;5;241m.\u001b[39mdriver \u001b[38;5;241m=\u001b[39m \u001b[43mwebdriver\u001b[49m\u001b[38;5;241;43m.\u001b[39;49m\u001b[43mChrome\u001b[49m\u001b[43m(\u001b[49m\u001b[43mexecutable_path\u001b[49m\u001b[38;5;241;43m=\u001b[39;49m\u001b[43mexecutable_path\u001b[49m\u001b[43m)\u001b[49m\n\u001b[1;32m     12\u001b[0m     \u001b[38;5;28mself\u001b[39m\u001b[38;5;241m.\u001b[39mdriver\u001b[38;5;241m.\u001b[39mget(url)\n\u001b[1;32m     13\u001b[0m     \u001b[38;5;28mself\u001b[39m\u001b[38;5;241m.\u001b[39mdriver\u001b[38;5;241m.\u001b[39mmaximize_window()\n",
      "\u001b[0;31mTypeError\u001b[0m: WebDriver.__init__() got an unexpected keyword argument 'executable_path'"
     ]
    }
   ],
   "source": [
    "PsicologoScraper().scrape()"
   ]
  },
  {
   "cell_type": "code",
   "execution_count": 46,
   "metadata": {},
   "outputs": [],
   "source": [
    "def dataframe_estruturado(tabela: str):\n",
    "    query_colunas = BancoDeDados().retornar_nomes_colunas(tabela)\n",
    "    lista_colunas = []\n",
    "    for coluna in query_colunas:\n",
    "        lista_colunas.append(coluna[0])\n",
    "\n",
    "    query_dados = BancoDeDados().retornar_dados(tabela)\n",
    "    return pd.DataFrame(query_dados,columns=lista_colunas)\n",
    "\n",
    "dados = dataframe_estruturado('psicologos')\n",
    "sexo = dados['sexo'].value_counts()\n"
   ]
  },
  {
   "cell_type": "code",
   "execution_count": 47,
   "metadata": {},
   "outputs": [
    {
     "data": {
      "text/html": [
       "<div>\n",
       "<style scoped>\n",
       "    .dataframe tbody tr th:only-of-type {\n",
       "        vertical-align: middle;\n",
       "    }\n",
       "\n",
       "    .dataframe tbody tr th {\n",
       "        vertical-align: top;\n",
       "    }\n",
       "\n",
       "    .dataframe thead th {\n",
       "        text-align: right;\n",
       "    }\n",
       "</style>\n",
       "<table border=\"1\" class=\"dataframe\">\n",
       "  <thead>\n",
       "    <tr style=\"text-align: right;\">\n",
       "      <th></th>\n",
       "      <th>id</th>\n",
       "      <th>nome</th>\n",
       "      <th>telefone</th>\n",
       "      <th>link</th>\n",
       "      <th>sexo</th>\n",
       "    </tr>\n",
       "  </thead>\n",
       "  <tbody>\n",
       "    <tr>\n",
       "      <th>0</th>\n",
       "      <td>1</td>\n",
       "      <td>Josilene Nascimento Silva</td>\n",
       "      <td>(11) 96869-0594</td>\n",
       "      <td>https://www.psymeetsocial.com/psicologo/josile...</td>\n",
       "      <td>F</td>\n",
       "    </tr>\n",
       "    <tr>\n",
       "      <th>1</th>\n",
       "      <td>2</td>\n",
       "      <td>Elisabete Itatani Scarabel</td>\n",
       "      <td>(11) 95760-9150</td>\n",
       "      <td>https://www.psymeetsocial.com/psicologo/elisab...</td>\n",
       "      <td>F</td>\n",
       "    </tr>\n",
       "    <tr>\n",
       "      <th>2</th>\n",
       "      <td>3</td>\n",
       "      <td>Tayse Maria Gonçalves Nascimento</td>\n",
       "      <td>(86) 99408-1178</td>\n",
       "      <td>https://www.psymeetsocial.com/psicologo/tayse-...</td>\n",
       "      <td>F</td>\n",
       "    </tr>\n",
       "    <tr>\n",
       "      <th>3</th>\n",
       "      <td>4</td>\n",
       "      <td>Eveli Salatiel Santos</td>\n",
       "      <td>(11) 94780-7680</td>\n",
       "      <td>https://www.psymeetsocial.com/psicologo/eveli-...</td>\n",
       "      <td>F</td>\n",
       "    </tr>\n",
       "    <tr>\n",
       "      <th>4</th>\n",
       "      <td>5</td>\n",
       "      <td>Barbara de Souza Reis</td>\n",
       "      <td>(31) 99769-0546</td>\n",
       "      <td>https://www.psymeetsocial.com/psicologo/barbar...</td>\n",
       "      <td>F</td>\n",
       "    </tr>\n",
       "    <tr>\n",
       "      <th>...</th>\n",
       "      <td>...</td>\n",
       "      <td>...</td>\n",
       "      <td>...</td>\n",
       "      <td>...</td>\n",
       "      <td>...</td>\n",
       "    </tr>\n",
       "    <tr>\n",
       "      <th>795</th>\n",
       "      <td>796</td>\n",
       "      <td>Aline Silva de Oliveira Farias</td>\n",
       "      <td>(21) 99794-6332</td>\n",
       "      <td>https://www.psymeetsocial.com/psicologo/aline-...</td>\n",
       "      <td>F</td>\n",
       "    </tr>\n",
       "    <tr>\n",
       "      <th>796</th>\n",
       "      <td>797</td>\n",
       "      <td>Gleice Fabrício Barbudo Vieira</td>\n",
       "      <td>(18) 98152-2248</td>\n",
       "      <td>https://www.psymeetsocial.com/psicologo/gleice...</td>\n",
       "      <td>F</td>\n",
       "    </tr>\n",
       "    <tr>\n",
       "      <th>797</th>\n",
       "      <td>798</td>\n",
       "      <td>Branca Estrella Cardoso</td>\n",
       "      <td>(31) 99686-0149</td>\n",
       "      <td>https://www.psymeetsocial.com/psicologo/branca...</td>\n",
       "      <td>F</td>\n",
       "    </tr>\n",
       "    <tr>\n",
       "      <th>798</th>\n",
       "      <td>799</td>\n",
       "      <td>Laurismar Portela</td>\n",
       "      <td>(21) 98154-3892</td>\n",
       "      <td>https://www.psymeetsocial.com/psicologo/lauris...</td>\n",
       "      <td>F</td>\n",
       "    </tr>\n",
       "    <tr>\n",
       "      <th>799</th>\n",
       "      <td>800</td>\n",
       "      <td>Thailane Luz</td>\n",
       "      <td>(75) 98224-4874</td>\n",
       "      <td>https://www.psymeetsocial.com/psicologo/thaila...</td>\n",
       "      <td>F</td>\n",
       "    </tr>\n",
       "  </tbody>\n",
       "</table>\n",
       "<p>800 rows × 5 columns</p>\n",
       "</div>"
      ],
      "text/plain": [
       "      id                              nome         telefone  \\\n",
       "0      1         Josilene Nascimento Silva  (11) 96869-0594   \n",
       "1      2        Elisabete Itatani Scarabel  (11) 95760-9150   \n",
       "2      3  Tayse Maria Gonçalves Nascimento  (86) 99408-1178   \n",
       "3      4             Eveli Salatiel Santos  (11) 94780-7680   \n",
       "4      5             Barbara de Souza Reis  (31) 99769-0546   \n",
       "..   ...                               ...              ...   \n",
       "795  796    Aline Silva de Oliveira Farias  (21) 99794-6332   \n",
       "796  797    Gleice Fabrício Barbudo Vieira  (18) 98152-2248   \n",
       "797  798           Branca Estrella Cardoso  (31) 99686-0149   \n",
       "798  799                 Laurismar Portela  (21) 98154-3892   \n",
       "799  800                      Thailane Luz  (75) 98224-4874   \n",
       "\n",
       "                                                  link sexo  \n",
       "0    https://www.psymeetsocial.com/psicologo/josile...    F  \n",
       "1    https://www.psymeetsocial.com/psicologo/elisab...    F  \n",
       "2    https://www.psymeetsocial.com/psicologo/tayse-...    F  \n",
       "3    https://www.psymeetsocial.com/psicologo/eveli-...    F  \n",
       "4    https://www.psymeetsocial.com/psicologo/barbar...    F  \n",
       "..                                                 ...  ...  \n",
       "795  https://www.psymeetsocial.com/psicologo/aline-...    F  \n",
       "796  https://www.psymeetsocial.com/psicologo/gleice...    F  \n",
       "797  https://www.psymeetsocial.com/psicologo/branca...    F  \n",
       "798  https://www.psymeetsocial.com/psicologo/lauris...    F  \n",
       "799  https://www.psymeetsocial.com/psicologo/thaila...    F  \n",
       "\n",
       "[800 rows x 5 columns]"
      ]
     },
     "execution_count": 47,
     "metadata": {},
     "output_type": "execute_result"
    }
   ],
   "source": [
    "dados"
   ]
  },
  {
   "cell_type": "markdown",
   "metadata": {},
   "source": [
    "Quando falamos de psicologos, na maioria das vezes pensamos logo em uma profissional do sexo feminino.\n",
    "Sendo bem perceptível isso quando analizamos o grafico comparando a quantidade de psicologos achados no site PsyMeet"
   ]
  },
  {
   "cell_type": "code",
   "execution_count": 48,
   "metadata": {},
   "outputs": [
    {
     "data": {
      "text/plain": [
       "Text(0.5, 1.0, 'Sexo dos psicólogos')"
      ]
     },
     "execution_count": 48,
     "metadata": {},
     "output_type": "execute_result"
    },
    {
     "data": {
      "image/png": "[encoded data removed]",
      "text/plain": [
       "<Figure size 640x480 with 1 Axes>"
      ]
     },
     "metadata": {},
     "output_type": "display_data"
    }
   ],
   "source": [
    "plt.pie(sexo, labels=sexo.index, autopct='%1.1f%%', startangle=90)\n",
    "plt.title('Sexo dos psicólogos')"
   ]
  },
  {
   "cell_type": "markdown",
   "metadata": {},
   "source": [
    "Foi seguindo essa tendência que surgiram algumas matérias sobre esse tema, como os seguintes sites:\n",
    "\n",
    "1)https://amenteemaravilhosa.com.br/mais-mulheres-psicologas/\n",
    "2)http://pepsic.bvsalud.org/scielo.php?script=sci_arttext&pid=S1414-98931984000100002\n",
    "3)https://crprn.org.br/noticias/psicologia-uma-profissao-de-muitas-e-diferentes-mulheres/\n"
   ]
  },
  {
   "cell_type": "code",
   "execution_count": 49,
   "metadata": {},
   "outputs": [
    {
     "name": "stdout",
     "output_type": "stream",
     "text": [
      "      id                                       nome         telefone  \\\n",
      "17    18                 Fladson de Sousa Rodrigues  (83) 99907-3955   \n",
      "116  117                   Ana Clara Tito de Ataide  (83) 99619-8502   \n",
      "202  203                       Ailza da Silva Costa  (83) 98708-3243   \n",
      "288  289                      Camila Roberto Vieira  (83) 99683-3923   \n",
      "370  371          Mayza Coeli Martins de Figueiredo  (83) 98760-0407   \n",
      "430  431              Emanuel Victor Cosmo Patriota  (83) 99860-8205   \n",
      "433  434            Hebert Ramom Alexandre da Silva  (83) 99932-7393   \n",
      "625  626                    Larissa de Araújo Silva  (83) 99874-4111   \n",
      "722  723                              Tereza Araújo  (83) 99934-0550   \n",
      "724  725                       Ícaro da Silva Gomes  (83) 99104-4076   \n",
      "783  784  Jannielly Aparecida Francisco de Oliveira  (83) 99642-1534   \n",
      "\n",
      "                                                  link sexo  \n",
      "17   https://www.psymeetsocial.com/psicologo/fladso...    M  \n",
      "116  https://www.psymeetsocial.com/psicologo/ana-cl...    F  \n",
      "202  https://www.psymeetsocial.com/psicologo/ailza-...    F  \n",
      "288  https://www.psymeetsocial.com/psicologo/camila...    F  \n",
      "370  https://www.psymeetsocial.com/psicologo/mayza-...    F  \n",
      "430  https://www.psymeetsocial.com/psicologo/emanue...    M  \n",
      "433  https://www.psymeetsocial.com/psicologo/hebert...    M  \n",
      "625  https://www.psymeetsocial.com/psicologo/lariss...    F  \n",
      "722  https://www.psymeetsocial.com/psicologo/tereza...    F  \n",
      "724  https://www.psymeetsocial.com/psicologo/icaro-...    M  \n",
      "783  https://www.psymeetsocial.com/psicologo/jannie...    F  \n"
     ]
    }
   ],
   "source": [
    "#quero que obternha os dados de todos os psicologos que o telefone que tenha (83)\n",
    "data = []\n",
    "for psi in dados['telefone']:\n",
    "    if psi[1:3] == '83':\n",
    "        data.append(psi)\n",
    "print(dados[dados['telefone'].isin(data)])"
   ]
  },
  {
   "cell_type": "code",
   "execution_count": 87,
   "metadata": {},
   "outputs": [
    {
     "data": {
      "text/plain": [
       "([<matplotlib.patches.Wedge at 0x7fd2f067f950>,\n",
       "  <matplotlib.patches.Wedge at 0x7fd2f0688a50>,\n",
       "  <matplotlib.patches.Wedge at 0x7fd2f0689c90>,\n",
       "  <matplotlib.patches.Wedge at 0x7fd2f06895d0>,\n",
       "  <matplotlib.patches.Wedge at 0x7fd2f069ccd0>],\n",
       " [Text(-0.8595494953277539, 0.6864216379761084, 'Nordeste'),\n",
       "  Text(-1.0585944006237968, -0.2989613603259529, 'Norte'),\n",
       "  Text(-0.8225624503301388, -0.7303362344200637, 'Sul'),\n",
       "  Text(1.0364110083803213, -0.3685813637558006, 'Sudeste'),\n",
       "  Text(0.13019821790341268, 1.0922675606529637, 'Centro-Oeste')],\n",
       " [Text(-0.4688451792696839, 0.3744118025324228, '28.5%'),\n",
       "  Text(-0.5774151276129801, -0.1630698329050652, '1.7%'),\n",
       "  Text(-0.4486704274528029, -0.39836521877458014, '12.7%'),\n",
       "  Text(0.5653150954801752, -0.20104438023043666, '53.3%'),\n",
       "  Text(0.07101720976549782, 0.5957823058107075, '3.8%')])"
      ]
     },
     "execution_count": 87,
     "metadata": {},
     "output_type": "execute_result"
    },
    {
     "data": {
      "image/png": "[encoded data removed]",
      "text/plain": [
       "<Figure size 640x480 with 1 Axes>"
      ]
     },
     "metadata": {},
     "output_type": "display_data"
    }
   ],
   "source": [
    "data = [] \n",
    "for psi in dados['telefone']:\n",
    "    data.append(psi[1:3])\n",
    "\n",
    "dados['ddd'] = data\n",
    "m = dados\n",
    "\n",
    "regioes = {'Nordeste': ['81', '82', '83', '84', '85', '86', '87', '88', '89', '71', '73', '74', '75', '77', '79'],\n",
    "           'Norte': ['91', '92', '93', '94', '95', '96', '97', '98', '99'],\n",
    "           'Sul': ['41', '42', '43', '44', '45', '46', '47', '48', '49'],\n",
    "           'Sudeste': ['11', '12', '13', '14', '15', '16', '17', '18', '19', '21', '22', '24', '27', '28'],\n",
    "           'Centro-Oeste': ['61', '62', '63', '64', '65']}\n",
    "x = [m[m['ddd'].isin(v)]['ddd'].count() for k, v in regioes.items()]\n",
    "plt.pie(x, labels=regioes.keys(), autopct='%1.1f%%', startangle=90)\n",
    "\n"
   ]
  }
 ],
 "metadata": {
  "kernelspec": {
   "display_name": "Python 3",
   "language": "python",
   "name": "python3"
  },
  "language_info": {
   "codemirror_mode": {
    "name": "ipython",
    "version": 3
   },
   "file_extension": ".py",
   "mimetype": "text/x-python",
   "name": "python",
   "nbconvert_exporter": "python",
   "pygments_lexer": "ipython3",
   "version": "3.11.6"
  }
 },
 "nbformat": 4,
 "nbformat_minor": 2
}
