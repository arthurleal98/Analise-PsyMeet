{
 "cells": [
  {
   "cell_type": "markdown",
   "metadata": {},
   "source": [
    "Analise de Dados do Site PyMeet\n",
    "\n",
    "Este site aprensenta profissionais da área da psicologia que trabalham com o valor social, por volta de R$30,00 a consulta."
   ]
  },
  {
   "cell_type": "code",
   "execution_count": 1,
   "metadata": {},
   "outputs": [],
   "source": [
    "from data.mysqls import BancoDeDados\n",
    "import pandas as pd\n",
    "import matplotlib.pyplot as plt\n",
    "from utils.scraping import PsicologoScraper\n",
    "\n",
    "\n"
   ]
  },
  {
   "cell_type": "markdown",
   "metadata": {},
   "source": [
    "Primeiro realizaremos o scraping de dados com o Selenium"
   ]
  },
  {
   "cell_type": "code",
   "execution_count": 2,
   "metadata": {},
   "outputs": [
    {
     "name": "stdout",
     "output_type": "stream",
     "text": [
      "Erro\n"
     ]
    }
   ],
   "source": [
    "PsicologoScraper().scrape()\n"
   ]
  },
  {
   "cell_type": "code",
   "execution_count": 9,
   "metadata": {},
   "outputs": [],
   "source": [
    "BancoDeDados().transformar_json_em_sql()"
   ]
  },
  {
   "cell_type": "code",
   "execution_count": 10,
   "metadata": {},
   "outputs": [],
   "source": [
    "def dataframe_estruturado(tabela: str):\n",
    "    query_colunas = BancoDeDados().retornar_nomes_colunas(tabela)\n",
    "    lista_colunas = []\n",
    "    for coluna in query_colunas:\n",
    "        lista_colunas.append(coluna[0])\n",
    "\n",
    "    query_dados = BancoDeDados().retornar_dados(tabela)\n",
    "    return pd.DataFrame(query_dados,columns=lista_colunas)\n",
    "\n",
    "dados = dataframe_estruturado('psicologos')\n",
    "sexo = dados['sexo'].value_counts()\n"
   ]
  },
  {
   "cell_type": "code",
   "execution_count": 11,
   "metadata": {},
   "outputs": [
    {
     "data": {
      "text/html": [
       "<div>\n",
       "<style scoped>\n",
       "    .dataframe tbody tr th:only-of-type {\n",
       "        vertical-align: middle;\n",
       "    }\n",
       "\n",
       "    .dataframe tbody tr th {\n",
       "        vertical-align: top;\n",
       "    }\n",
       "\n",
       "    .dataframe thead th {\n",
       "        text-align: right;\n",
       "    }\n",
       "</style>\n",
       "<table border=\"1\" class=\"dataframe\">\n",
       "  <thead>\n",
       "    <tr style=\"text-align: right;\">\n",
       "      <th></th>\n",
       "      <th>id</th>\n",
       "      <th>nome</th>\n",
       "      <th>telefone</th>\n",
       "      <th>link</th>\n",
       "      <th>sexo</th>\n",
       "    </tr>\n",
       "  </thead>\n",
       "  <tbody>\n",
       "    <tr>\n",
       "      <th>0</th>\n",
       "      <td>1</td>\n",
       "      <td>Mariana França</td>\n",
       "      <td>(61) 98284-6617</td>\n",
       "      <td>https://www.psymeetsocial.com/psicologo/marian...</td>\n",
       "      <td>F</td>\n",
       "    </tr>\n",
       "    <tr>\n",
       "      <th>1</th>\n",
       "      <td>2</td>\n",
       "      <td>Ana Laura Macabiba Lorena</td>\n",
       "      <td>(35) 99722-6446</td>\n",
       "      <td>https://www.psymeetsocial.com/psicologo/ana-la...</td>\n",
       "      <td>F</td>\n",
       "    </tr>\n",
       "    <tr>\n",
       "      <th>2</th>\n",
       "      <td>3</td>\n",
       "      <td>Cibele Giacomini</td>\n",
       "      <td>(47) 99978-3527</td>\n",
       "      <td>https://www.psymeetsocial.com/psicologo/cibele...</td>\n",
       "      <td>F</td>\n",
       "    </tr>\n",
       "    <tr>\n",
       "      <th>3</th>\n",
       "      <td>4</td>\n",
       "      <td>Francisco Elexandre Barboza de Freitas</td>\n",
       "      <td>(85) 98412-4774</td>\n",
       "      <td>https://www.psymeetsocial.com/psicologo/franci...</td>\n",
       "      <td>M</td>\n",
       "    </tr>\n",
       "    <tr>\n",
       "      <th>4</th>\n",
       "      <td>5</td>\n",
       "      <td>Felipe Sanberg Schuchmann</td>\n",
       "      <td>(51) 99664-5881</td>\n",
       "      <td>https://www.psymeetsocial.com/psicologo/felipe...</td>\n",
       "      <td>M</td>\n",
       "    </tr>\n",
       "    <tr>\n",
       "      <th>...</th>\n",
       "      <td>...</td>\n",
       "      <td>...</td>\n",
       "      <td>...</td>\n",
       "      <td>...</td>\n",
       "      <td>...</td>\n",
       "    </tr>\n",
       "    <tr>\n",
       "      <th>795</th>\n",
       "      <td>796</td>\n",
       "      <td>Daiene Pimentel da Cunha Gandra Pereira</td>\n",
       "      <td>(17) 98130-0188</td>\n",
       "      <td>https://www.psymeetsocial.com/psicologo/daiene...</td>\n",
       "      <td>F</td>\n",
       "    </tr>\n",
       "    <tr>\n",
       "      <th>796</th>\n",
       "      <td>797</td>\n",
       "      <td>Ana Cristina dos Santos Souza Diniz</td>\n",
       "      <td>(86) 98170-2473</td>\n",
       "      <td>https://www.psymeetsocial.com/psicologo/ana-cr...</td>\n",
       "      <td>F</td>\n",
       "    </tr>\n",
       "    <tr>\n",
       "      <th>797</th>\n",
       "      <td>798</td>\n",
       "      <td>Maria Caroline Oliveira Lopes Miranda</td>\n",
       "      <td>(86) 92001-8062</td>\n",
       "      <td>https://www.psymeetsocial.com/psicologo/maria-...</td>\n",
       "      <td>F</td>\n",
       "    </tr>\n",
       "    <tr>\n",
       "      <th>798</th>\n",
       "      <td>799</td>\n",
       "      <td>Grasiele Moniz Mendonça</td>\n",
       "      <td>(11) 91266-5478</td>\n",
       "      <td>https://www.psymeetsocial.com/psicologo/grasie...</td>\n",
       "      <td>F</td>\n",
       "    </tr>\n",
       "    <tr>\n",
       "      <th>799</th>\n",
       "      <td>800</td>\n",
       "      <td>João Victor Gomes Guimarães</td>\n",
       "      <td>(24) 99298-5959</td>\n",
       "      <td>https://www.psymeetsocial.com/psicologo/joao-v...</td>\n",
       "      <td>M</td>\n",
       "    </tr>\n",
       "  </tbody>\n",
       "</table>\n",
       "<p>800 rows × 5 columns</p>\n",
       "</div>"
      ],
      "text/plain": [
       "      id                                     nome         telefone  \\\n",
       "0      1                           Mariana França  (61) 98284-6617   \n",
       "1      2                Ana Laura Macabiba Lorena  (35) 99722-6446   \n",
       "2      3                         Cibele Giacomini  (47) 99978-3527   \n",
       "3      4   Francisco Elexandre Barboza de Freitas  (85) 98412-4774   \n",
       "4      5                Felipe Sanberg Schuchmann  (51) 99664-5881   \n",
       "..   ...                                      ...              ...   \n",
       "795  796  Daiene Pimentel da Cunha Gandra Pereira  (17) 98130-0188   \n",
       "796  797      Ana Cristina dos Santos Souza Diniz  (86) 98170-2473   \n",
       "797  798    Maria Caroline Oliveira Lopes Miranda  (86) 92001-8062   \n",
       "798  799                  Grasiele Moniz Mendonça  (11) 91266-5478   \n",
       "799  800              João Victor Gomes Guimarães  (24) 99298-5959   \n",
       "\n",
       "                                                  link sexo  \n",
       "0    https://www.psymeetsocial.com/psicologo/marian...    F  \n",
       "1    https://www.psymeetsocial.com/psicologo/ana-la...    F  \n",
       "2    https://www.psymeetsocial.com/psicologo/cibele...    F  \n",
       "3    https://www.psymeetsocial.com/psicologo/franci...    M  \n",
       "4    https://www.psymeetsocial.com/psicologo/felipe...    M  \n",
       "..                                                 ...  ...  \n",
       "795  https://www.psymeetsocial.com/psicologo/daiene...    F  \n",
       "796  https://www.psymeetsocial.com/psicologo/ana-cr...    F  \n",
       "797  https://www.psymeetsocial.com/psicologo/maria-...    F  \n",
       "798  https://www.psymeetsocial.com/psicologo/grasie...    F  \n",
       "799  https://www.psymeetsocial.com/psicologo/joao-v...    M  \n",
       "\n",
       "[800 rows x 5 columns]"
      ]
     },
     "execution_count": 11,
     "metadata": {},
     "output_type": "execute_result"
    }
   ],
   "source": [
    "dados"
   ]
  },
  {
   "cell_type": "markdown",
   "metadata": {},
   "source": [
    "Quando falamos de psicologos, na maioria das vezes pensamos logo em uma profissional do sexo feminino.\n",
    "Sendo bem perceptível isso quando analizamos o grafico comparando a quantidade de psicologos achados no site PsyMeet"
   ]
  },
  {
   "cell_type": "code",
   "execution_count": 18,
   "metadata": {},
   "outputs": [
    {
     "name": "stdout",
     "output_type": "stream",
     "text": [
      "sexo\n",
      "F    602\n",
      "M    198\n",
      "Name: count, dtype: int64\n"
     ]
    },
    {
     "data": {
      "image/png": "[encoded data removed]",
      "text/plain": [
       "<Figure size 640x480 with 1 Axes>"
      ]
     },
     "metadata": {},
     "output_type": "display_data"
    }
   ],
   "source": [
    "plt.pie(sexo, labels=sexo.index, autopct='%1.1f%%', startangle=90)\n",
    "plt.title('Sexo dos psicólogos')\n",
    "print(sexo)"
   ]
  },
  {
   "cell_type": "markdown",
   "metadata": {},
   "source": [
    "Foi seguindo essa tendência que surgiram algumas matérias sobre esse tema, como os seguintes sites:\n",
    "\n",
    "1)https://amenteemaravilhosa.com.br/mais-mulheres-psicologas/\n",
    "2)http://pepsic.bvsalud.org/scielo.php?script=sci_arttext&pid=S1414-98931984000100002\n",
    "3)https://crprn.org.br/noticias/psicologia-uma-profissao-de-muitas-e-diferentes-mulheres/\n"
   ]
  },
  {
   "cell_type": "code",
   "execution_count": 13,
   "metadata": {},
   "outputs": [
    {
     "name": "stdout",
     "output_type": "stream",
     "text": [
      "      id                                 nome         telefone  \\\n",
      "22    23         Angelina Vasconcelos Fragoso  (83) 98661-5224   \n",
      "33    34                  Valeska Gomes Nunes  (83) 99910-2621   \n",
      "112  113                 Ícaro da Silva Gomes  (83) 99104-4076   \n",
      "126  127           Mylena Kelly Lima da Silva  (83) 99881-8003   \n",
      "152  153    Paula Gonçalves Vitorino Monteiro  (83) 99865-0376   \n",
      "289  290                 Vitória Cruz Cardoso  (83) 99699-5658   \n",
      "489  490             Luciana Cunha Cavalcanti  (83) 98684-1366   \n",
      "608  609  Raphaella Renally Fernandes Tavares  (83) 98898-9290   \n",
      "767  768                Camila Spósito Guenze  (83) 98793-3813   \n",
      "770  771          Paloma Lemos de Campos Juca  (83) 99889-6263   \n",
      "\n",
      "                                                  link sexo  \n",
      "22   https://www.psymeetsocial.com/psicologo/angeli...    F  \n",
      "33   https://www.psymeetsocial.com/psicologo/valesk...    F  \n",
      "112  https://www.psymeetsocial.com/psicologo/icaro-...    M  \n",
      "126  https://www.psymeetsocial.com/psicologo/mylena...    F  \n",
      "152  https://www.psymeetsocial.com/psicologo/paula-...    F  \n",
      "289  https://www.psymeetsocial.com/psicologo/vitori...    F  \n",
      "489  https://www.psymeetsocial.com/psicologo/lucian...    F  \n",
      "608  https://www.psymeetsocial.com/psicologo/raphae...    F  \n",
      "767  https://www.psymeetsocial.com/psicologo/camila...    F  \n",
      "770  https://www.psymeetsocial.com/psicologo/paloma...    F  \n"
     ]
    }
   ],
   "source": [
    "#quero que obternha os dados de todos os psicologos que o telefone que tenha (83)\n",
    "data = []\n",
    "for psi in dados['telefone']:\n",
    "    if psi[1:3] == '83':\n",
    "        data.append(psi)\n",
    "print(dados[dados['telefone'].isin(data)])"
   ]
  },
  {
   "cell_type": "code",
   "execution_count": 14,
   "metadata": {},
   "outputs": [
    {
     "data": {
      "text/plain": [
       "([<matplotlib.patches.Wedge at 0x16dd53beb10>,\n",
       "  <matplotlib.patches.Wedge at 0x16dd1638e60>,\n",
       "  <matplotlib.patches.Wedge at 0x16dd53be8a0>,\n",
       "  <matplotlib.patches.Wedge at 0x16dd53bf8c0>,\n",
       "  <matplotlib.patches.Wedge at 0x16dd5286210>],\n",
       " [Text(-0.8633500945555365, 0.6816352501381854, 'Nordeste'),\n",
       "  Text(-1.045162746105444, -0.3429793494560966, 'Norte'),\n",
       "  Text(-0.9138705593099814, -0.612242272982242, 'Sul'),\n",
       "  Text(0.9048130613338968, -0.6255504168646857, 'Sudeste'),\n",
       "  Text(0.22905270045537435, 1.0758879404538841, 'Centro-Oeste')],\n",
       " [Text(-0.4709182333939289, 0.37180104552991927, '28.7%'),\n",
       "  Text(-0.5700887706029695, -0.18707964515787087, '2.6%'),\n",
       "  Text(-0.49847485053271706, -0.3339503307175865, '6.1%'),\n",
       "  Text(0.4935343970912164, -0.34120931828982853, '55.9%'),\n",
       "  Text(0.12493783661202236, 0.5868479675203004, '6.7%')])"
      ]
     },
     "execution_count": 14,
     "metadata": {},
     "output_type": "execute_result"
    },
    {
     "data": {
      "image/png": "[encoded data removed]",
      "text/plain": [
       "<Figure size 640x480 with 1 Axes>"
      ]
     },
     "metadata": {},
     "output_type": "display_data"
    }
   ],
   "source": [
    "data = [] \n",
    "for psi in dados['telefone']:\n",
    "    data.append(psi[1:3])\n",
    "\n",
    "dados['ddd'] = data\n",
    "m = dados\n",
    "\n",
    "regioes = {'Nordeste': ['81', '82', '83', '84', '85', '86', '87', '88', '89', '71', '73', '74', '75', '77', '79'],\n",
    "           'Norte': ['91', '92', '93', '94', '95', '96', '97', '98', '99'],\n",
    "           'Sul': ['41', '42', '43', '44', '45', '46', '47', '48', '49'],\n",
    "           'Sudeste': ['11', '12', '13', '14', '15', '16', '17', '18', '19', '21', '22', '24', '27', '28'],\n",
    "           'Centro-Oeste': ['61', '62', '63', '64', '65']}\n",
    "x = [m[m['ddd'].isin(v)]['ddd'].count() for k, v in regioes.items()]\n",
    "plt.pie(x, labels=regioes.keys(), autopct='%1.1f%%', startangle=90)\n",
    "\n"
   ]
  },
  {
   "cell_type": "code",
   "execution_count": 17,
   "metadata": {},
   "outputs": [],
   "source": [
    "#mostrar todas as psicologas do sexo F que tem sao da regiao nordeste\n",
    "x = m[(m['sexo'] == 'F') & (m['ddd'].isin(regioes['Nordeste']) )]\n",
    "#csv\n",
    "x.to_csv('psicologas_nordeste.csv', index=False)\n",
    "\n",
    "\n"
   ]
  }
 ],
 "metadata": {
  "kernelspec": {
   "display_name": "Python 3",
   "language": "python",
   "name": "python3"
  },
  "language_info": {
   "codemirror_mode": {
    "name": "ipython",
    "version": 3
   },
   "file_extension": ".py",
   "mimetype": "text/x-python",
   "name": "python",
   "nbconvert_exporter": "python",
   "pygments_lexer": "ipython3",
   "version": "3.12.2"
  }
 },
 "nbformat": 4,
 "nbformat_minor": 2
}
